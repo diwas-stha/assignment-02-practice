{
 "cells": [
  {
   "cell_type": "markdown",
   "metadata": {},
   "source": [
    "- Implement a program that reads a CSV file named \"data.csv,\" containing columns \"Name\" and \"Age.\" Create a new CSV file called \"adults.csv\" with only the rows of individuals who are 18 years or older."
   ]
  },
  {
   "cell_type": "code",
   "execution_count": 5,
   "metadata": {},
   "outputs": [],
   "source": [
    "import csv"
   ]
  },
  {
   "cell_type": "code",
   "execution_count": 6,
   "metadata": {},
   "outputs": [],
   "source": [
    "def filter_adults(input_filename, output_filename):\n",
    "\n",
    "    with open(input_filename, 'r', newline='') as input_file:\n",
    "        read = csv.DictReader(input_file)\n",
    "        adults_data = [row for row in read if int(row['Age']) >=18 ]\n",
    "    \n",
    "    with open(output_filename, 'w', newline='') as output_file:\n",
    "        fields = ['Name', 'Age']\n",
    "        write = csv.DictWriter(output_file, fieldnames=fields)\n",
    "        write.writeheader()\n",
    "        write.writerows(adults_data)"
   ]
  },
  {
   "cell_type": "code",
   "execution_count": 7,
   "metadata": {},
   "outputs": [],
   "source": [
    "input_filename = \"data.csv\"\n",
    "output_filename = \"adults.csv\"\n",
    "filter_adults(input_filename, output_filename)"
   ]
  },
  {
   "cell_type": "markdown",
   "metadata": {},
   "source": [
    "- Create a function `add_to_json` that takes a filename and a dictionary as input. The function should read the JSON data from the file, add the new dictionary to it, and write the updated data back to the same file."
   ]
  },
  {
   "cell_type": "code",
   "execution_count": null,
   "metadata": {},
   "outputs": [],
   "source": []
  }
 ],
 "metadata": {
  "kernelspec": {
   "display_name": "Python 3",
   "language": "python",
   "name": "python3"
  },
  "language_info": {
   "codemirror_mode": {
    "name": "ipython",
    "version": 3
   },
   "file_extension": ".py",
   "mimetype": "text/x-python",
   "name": "python",
   "nbconvert_exporter": "python",
   "pygments_lexer": "ipython3",
   "version": "3.10.7"
  },
  "orig_nbformat": 4
 },
 "nbformat": 4,
 "nbformat_minor": 2
}
