{
 "cells": [
  {
   "cell_type": "markdown",
   "metadata": {},
   "source": [
    "- Implement a program that reads a CSV file named \"data.csv,\" containing columns \"Name\" and \"Age.\" Create a new CSV file called \"adults.csv\" with only the rows of individuals who are 18 years or older."
   ]
  },
  {
   "cell_type": "code",
   "execution_count": 5,
   "metadata": {},
   "outputs": [],
   "source": [
    "import csv"
   ]
  },
  {
   "cell_type": "code",
   "execution_count": 6,
   "metadata": {},
   "outputs": [],
   "source": [
    "def filter_adults(input_filename, output_filename):\n",
    "\n",
    "    with open(input_filename, 'r', newline='') as input_file:\n",
    "        read = csv.DictReader(input_file)\n",
    "        adults_data = [row for row in read if int(row['Age']) >=18 ]\n",
    "    \n",
    "    with open(output_filename, 'w', newline='') as output_file:\n",
    "        fields = ['Name', 'Age']\n",
    "        write = csv.DictWriter(output_file, fieldnames=fields)\n",
    "        write.writeheader()\n",
    "        write.writerows(adults_data)"
   ]
  },
  {
   "cell_type": "code",
   "execution_count": 7,
   "metadata": {},
   "outputs": [],
   "source": [
    "input_filename = \"data.csv\"\n",
    "output_filename = \"adults.csv\"\n",
    "filter_adults(input_filename, output_filename)"
   ]
  },
  {
   "cell_type": "markdown",
   "metadata": {},
   "source": [
    "- Create a function `add_to_json` that takes a filename and a dictionary as input. The function should read the JSON data from the file, add the new dictionary to it, and write the updated data back to the same file."
   ]
  },
  {
   "cell_type": "code",
   "execution_count": 2,
   "metadata": {},
   "outputs": [],
   "source": [
    "import json"
   ]
  },
  {
   "cell_type": "code",
   "execution_count": 5,
   "metadata": {},
   "outputs": [],
   "source": [
    "def add_to_json(filename, dictionary):\n",
    "    try:\n",
    "        with open(filename, 'r') as file:\n",
    "            data = json.load(file)\n",
    "    except FileNotFoundError:\n",
    "        data = []\n",
    "    \n",
    "    data.append(dictionary)\n",
    "\n",
    "    with open(filename, 'w') as file:\n",
    "        json.dump(data, file)\n",
    "\n",
    "filename = \"data.json\"\n",
    "dictionary = {\"name\": \"Hari\", \"age\": 30}\n",
    "add_to_json(filename, dictionary)"
   ]
  },
  {
   "cell_type": "markdown",
   "metadata": {},
   "source": [
    "- Create a function search_log that takes a log file and a search keyword as input.\n",
    "The function should find and display all lines containing the search keyword"
   ]
  },
  {
   "cell_type": "code",
   "execution_count": 6,
   "metadata": {},
   "outputs": [
    {
     "name": "stdout",
     "output_type": "stream",
     "text": [
      "2023-08-05 12:15:30 - ERROR - Something went wrong\n",
      "2023-08-05 12:15:38 - ERROR - Connection failed\n"
     ]
    }
   ],
   "source": [
    "def search_log(log_file, search_keyword):\n",
    "    try:\n",
    "        # Open the log file in read mode\n",
    "        with open(log_file, 'r') as file:\n",
    "            for line in file:\n",
    "                # Check if the search keyword is present in the line\n",
    "                if search_keyword in line:\n",
    "                    # If found, display the line\n",
    "                    print(line.strip())  # Using strip to remove newline character\n",
    "    except FileNotFoundError:\n",
    "        print(f\"Error: The file '{log_file}' was not found.\")\n",
    "    except Exception as e:\n",
    "        print(f\"An error occurred: {e}\")\n",
    "\n",
    "# Test the function\n",
    "log_file = \"sample_log.txt\"\n",
    "search_keyword = \"ERROR\"\n",
    "search_log(log_file, search_keyword)\n"
   ]
  }
 ],
 "metadata": {
  "kernelspec": {
   "display_name": "Python 3",
   "language": "python",
   "name": "python3"
  },
  "language_info": {
   "codemirror_mode": {
    "name": "ipython",
    "version": 3
   },
   "file_extension": ".py",
   "mimetype": "text/x-python",
   "name": "python",
   "nbconvert_exporter": "python",
   "pygments_lexer": "ipython3",
   "version": "3.10.7"
  },
  "orig_nbformat": 4
 },
 "nbformat": 4,
 "nbformat_minor": 2
}
