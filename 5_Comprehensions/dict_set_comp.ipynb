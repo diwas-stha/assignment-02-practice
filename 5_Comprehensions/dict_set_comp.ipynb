{
 "cells": [
  {
   "cell_type": "markdown",
   "metadata": {},
   "source": [
    "## List Comprehension"
   ]
  },
  {
   "cell_type": "markdown",
   "metadata": {},
   "source": [
    "Given a list of strings, create a new list that contains only the strings with more than 5 characters using list comprehension."
   ]
  },
  {
   "cell_type": "code",
   "execution_count": 4,
   "metadata": {},
   "outputs": [
    {
     "name": "stdout",
     "output_type": "stream",
     "text": [
      "['banana', 'orange', 'grapes']\n"
     ]
    }
   ],
   "source": [
    "def new_list(old_list):\n",
    "\n",
    "    \"\"\"\n",
    "    Create a new list containing strings with more than 5 characters.\n",
    "\n",
    "    Parameters:\n",
    "        strings (list of str): The list of strings.\n",
    "    \"\"\"\n",
    "    result = [i for i in old_list if len(i)>5]\n",
    "    return result\n",
    "\n",
    "input_strings = [\"apple\", \"banana\", \"orange\", \"kiwi\", \"grapes\", \"pear\", \"mango\"]\n",
    "\n",
    "print(new_list(input_strings)) # Output: ['banana', 'orange', 'grapes']\n"
   ]
  },
  {
   "cell_type": "markdown",
   "metadata": {},
   "source": [
    "Given three lists list1, list2, and list3, each containing integers, write a Python program using list comprehension to generate a new list of unique triplets (x, y, z) where x is from list1, y is from list2, and z is from list3, such that x + y + z = 0.\n"
   ]
  },
  {
   "cell_type": "code",
   "execution_count": 5,
   "metadata": {},
   "outputs": [
    {
     "name": "stdout",
     "output_type": "stream",
     "text": [
      "[(-1, -3, 4), (-1, 3, -2), (0, -2, 2), (0, 0, 0), (1, -3, 2), (1, 0, -1), (2, -2, 0), (2, 0, -2), (-1, -3, 4), (-1, 3, -2), (-4, 0, 4), (-4, 5, -1)]\n"
     ]
    }
   ],
   "source": [
    "def new_list(list1, list2, list3):\n",
    "    \"\"\"\n",
    "    Generate a new list of unique triplets (x, y, z) such that x + y + z = 0.\n",
    "\n",
    "    Parameter: three list of integers\n",
    "    \"\"\"\n",
    "    result = [(x, y, z) for x in list1 for y in list2 for z in list3 if x+y+z == 0]\n",
    "    return result\n",
    "\n",
    "list1 = [-1, 0, 1, 2, -1, -4]\n",
    "list2 = [-3, -2, 3, 0, 5]\n",
    "list3 = [0, 2, -2, 4, -1]\n",
    "\n",
    "print(new_list(list1, list2, list3))"
   ]
  },
  {
   "cell_type": "markdown",
   "metadata": {},
   "source": [
    "## Dictionary comprehension"
   ]
  },
  {
   "cell_type": "markdown",
   "metadata": {},
   "source": [
    "Given two lists - one containing keys and another containing values, create a dictionary using dictionary comprehension"
   ]
  },
  {
   "cell_type": "code",
   "execution_count": 3,
   "metadata": {},
   "outputs": [
    {
     "name": "stdout",
     "output_type": "stream",
     "text": [
      "{'Christopher Nolan': 'Inception', 'Steven Spielberg': 'Jurassic Park', 'Martin Scorsese': 'The Irishman', 'Quentin Tarantino': 'Pulp Fiction', 'Alfred Hitchcock': 'Psycho'}\n"
     ]
    }
   ],
   "source": [
    "directors = [\"Christopher Nolan\", \"Steven Spielberg\", \"Martin Scorsese\", \"Quentin Tarantino\", \"Alfred Hitchcock\"]\n",
    "movies = [\"Inception\", \"Jurassic Park\", \"The Irishman\", \"Pulp Fiction\", \"Psycho\"]\n",
    "\n",
    "\n",
    "dictionary = {directors[i]: movies[i] for i in range(len(directors))}\n",
    " \n",
    "\n",
    "print(dictionary)"
   ]
  },
  {
   "cell_type": "markdown",
   "metadata": {},
   "source": [
    "Given a dictionary with students' names as keys and their respective scores as values, create a new dictionary that contains only the students who scored more than 80 using dictionary comprehension."
   ]
  },
  {
   "cell_type": "code",
   "execution_count": 4,
   "metadata": {},
   "outputs": [
    {
     "name": "stdout",
     "output_type": "stream",
     "text": [
      "{'David': 95, 'Sita': 88, 'Rita': 93, 'Hannah': 87}\n"
     ]
    }
   ],
   "source": [
    "students_scores = {\n",
    "    \"Ram\": 55,\n",
    "    \"Shyam\": 22,\n",
    "    \"Hari\": 78,\n",
    "    \"David\": 95,\n",
    "    \"Sita\": 88,\n",
    "    \"Gita\": 80,\n",
    "    \"Rita\": 93,\n",
    "    \"Hannah\": 87\n",
    "}\n",
    "\n",
    "new_dict = {name: score for name, score in students_scores.items() if score > 80 }\n",
    "\n",
    "print(new_dict)\n",
    "\n",
    "\n"
   ]
  },
  {
   "cell_type": "markdown",
   "metadata": {},
   "source": [
    "## Set Comprehension"
   ]
  },
  {
   "cell_type": "markdown",
   "metadata": {},
   "source": [
    "Given a list of words, write a Python program to create a set using set comprehension that contains all the unique characters present in the words.\n"
   ]
  },
  {
   "cell_type": "code",
   "execution_count": 6,
   "metadata": {},
   "outputs": [
    {
     "name": "stdout",
     "output_type": "stream",
     "text": [
      "Set of unique characters:  {'k', 'l', 'o', 'p', 'm', 'a', 'g', 't', 'r', 'n', 'w', 'i', 'b', 'e'}\n"
     ]
    }
   ],
   "source": [
    "words = ['apple', 'banana', 'orange', 'kiwi', 'grape', 'pomegranate']\n",
    "\n",
    "set_unique_characters = {char for word in words for char in word} \n",
    "\n",
    "print(\"Set of unique characters: \", set_unique_characters)"
   ]
  },
  {
   "cell_type": "markdown",
   "metadata": {},
   "source": []
  }
 ],
 "metadata": {
  "kernelspec": {
   "display_name": "Python 3",
   "language": "python",
   "name": "python3"
  },
  "language_info": {
   "codemirror_mode": {
    "name": "ipython",
    "version": 3
   },
   "file_extension": ".py",
   "mimetype": "text/x-python",
   "name": "python",
   "nbconvert_exporter": "python",
   "pygments_lexer": "ipython3",
   "version": "3.10.7"
  },
  "orig_nbformat": 4
 },
 "nbformat": 4,
 "nbformat_minor": 2
}
